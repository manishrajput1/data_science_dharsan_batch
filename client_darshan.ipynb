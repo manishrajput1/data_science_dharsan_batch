{
 "cells": [
  {
   "cell_type": "code",
   "execution_count": 3,
   "id": "b1255efb",
   "metadata": {},
   "outputs": [
    {
     "name": "stdout",
     "output_type": "stream",
     "text": [
      "Overwriting client_darshan.py\n"
     ]
    }
   ],
   "source": [
    "%%writefile client_darshan.py\n",
    "import socket\n",
    "c=socket.socket()\n",
    "c.connect(('192.168.1.115',12345))\n",
    "print('connected')\n",
    "while True: \n",
    "    data=c.recv(1024)\n",
    "    print(data.decode())\n",
    "    m=input('Enter msg: ')\n",
    "    c.send(m.encode())\n",
    "    if data.decode()=='bye' or m=='bye':\n",
    "        break"
   ]
  },
  {
   "cell_type": "code",
   "execution_count": 4,
   "id": "be020d86",
   "metadata": {},
   "outputs": [],
   "source": [
    "# exception handling....."
   ]
  },
  {
   "cell_type": "code",
   "execution_count": 12,
   "id": "d8ccdf27",
   "metadata": {},
   "outputs": [],
   "source": [
    "\n",
    "def div(a,b):\n",
    "    try:\n",
    "        return a/b\n",
    "    except Exception:\n",
    "        "
   ]
  },
  {
   "cell_type": "code",
   "execution_count": 13,
   "id": "99c892bc",
   "metadata": {},
   "outputs": [
    {
     "name": "stdout",
     "output_type": "stream",
     "text": [
      "plz enter integer\n"
     ]
    }
   ],
   "source": [
    "div('10',3)"
   ]
  },
  {
   "cell_type": "code",
   "execution_count": 14,
   "id": "0a02d3dd",
   "metadata": {},
   "outputs": [
    {
     "name": "stdout",
     "output_type": "stream",
     "text": [
      "plz enter integer\n"
     ]
    }
   ],
   "source": [
    "div(10,0)"
   ]
  },
  {
   "cell_type": "code",
   "execution_count": 21,
   "id": "98c5fca6",
   "metadata": {},
   "outputs": [],
   "source": [
    "def pattern(a):\n",
    "    if a>40:\n",
    "        raise ValueError('max limit')\n",
    "    for i in range(a):\n",
    "        print(' '*(a-i)+'* '*i)"
   ]
  },
  {
   "cell_type": "code",
   "execution_count": 23,
   "id": "363f611b",
   "metadata": {},
   "outputs": [
    {
     "name": "stdout",
     "output_type": "stream",
     "text": [
      "                                   \n",
      "                                  * \n",
      "                                 * * \n",
      "                                * * * \n",
      "                               * * * * \n",
      "                              * * * * * \n",
      "                             * * * * * * \n",
      "                            * * * * * * * \n",
      "                           * * * * * * * * \n",
      "                          * * * * * * * * * \n",
      "                         * * * * * * * * * * \n",
      "                        * * * * * * * * * * * \n",
      "                       * * * * * * * * * * * * \n",
      "                      * * * * * * * * * * * * * \n",
      "                     * * * * * * * * * * * * * * \n",
      "                    * * * * * * * * * * * * * * * \n",
      "                   * * * * * * * * * * * * * * * * \n",
      "                  * * * * * * * * * * * * * * * * * \n",
      "                 * * * * * * * * * * * * * * * * * * \n",
      "                * * * * * * * * * * * * * * * * * * * \n",
      "               * * * * * * * * * * * * * * * * * * * * \n",
      "              * * * * * * * * * * * * * * * * * * * * * \n",
      "             * * * * * * * * * * * * * * * * * * * * * * \n",
      "            * * * * * * * * * * * * * * * * * * * * * * * \n",
      "           * * * * * * * * * * * * * * * * * * * * * * * * \n",
      "          * * * * * * * * * * * * * * * * * * * * * * * * * \n",
      "         * * * * * * * * * * * * * * * * * * * * * * * * * * \n",
      "        * * * * * * * * * * * * * * * * * * * * * * * * * * * \n",
      "       * * * * * * * * * * * * * * * * * * * * * * * * * * * * \n",
      "      * * * * * * * * * * * * * * * * * * * * * * * * * * * * * \n",
      "     * * * * * * * * * * * * * * * * * * * * * * * * * * * * * * \n",
      "    * * * * * * * * * * * * * * * * * * * * * * * * * * * * * * * \n",
      "   * * * * * * * * * * * * * * * * * * * * * * * * * * * * * * * * \n",
      "  * * * * * * * * * * * * * * * * * * * * * * * * * * * * * * * * * \n",
      " * * * * * * * * * * * * * * * * * * * * * * * * * * * * * * * * * * \n"
     ]
    }
   ],
   "source": [
    "pattern(35)"
   ]
  },
  {
   "cell_type": "code",
   "execution_count": null,
   "id": "0bf0eb40",
   "metadata": {},
   "outputs": [],
   "source": []
  }
 ],
 "metadata": {
  "kernelspec": {
   "display_name": "Python 3 (ipykernel)",
   "language": "python",
   "name": "python3"
  },
  "language_info": {
   "codemirror_mode": {
    "name": "ipython",
    "version": 3
   },
   "file_extension": ".py",
   "mimetype": "text/x-python",
   "name": "python",
   "nbconvert_exporter": "python",
   "pygments_lexer": "ipython3",
   "version": "3.9.6"
  }
 },
 "nbformat": 4,
 "nbformat_minor": 5
}
