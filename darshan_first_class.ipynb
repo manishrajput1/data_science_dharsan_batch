{
 "cells": [
  {
   "cell_type": "markdown",
   "id": "8ef285ec",
   "metadata": {},
   "source": [
    "     data type DS\n",
    "         * numbers ---> int, float , complex\n",
    "         * string ---> str\n",
    "         * list ----> homogeneous , hetrogeneous\n",
    "         * tuple ----> immutable\n",
    "         * dict ---> maping ---> key value pair\n",
    "         * set ---> unordered and store unipue values\n",
    "         * bool ---> True ,False"
   ]
  },
  {
   "cell_type": "code",
   "execution_count": 1,
   "id": "aed9825f",
   "metadata": {},
   "outputs": [],
   "source": [
    "# string---> '', \" \",\"\"\" \"\"\"\n",
    "# '', \" \" for use only single line string\n",
    "# ''' ''' for use paragraph---->"
   ]
  },
  {
   "cell_type": "code",
   "execution_count": 3,
   "id": "9aea9ab9",
   "metadata": {},
   "outputs": [],
   "source": [
    "r='''hello\n",
    "        how \n",
    "           are \n",
    "            yoi'''"
   ]
  },
  {
   "cell_type": "code",
   "execution_count": 4,
   "id": "31ee794d",
   "metadata": {},
   "outputs": [
    {
     "name": "stdout",
     "output_type": "stream",
     "text": [
      "hello\n",
      "        how \n",
      "           are \n",
      "            yoi\n"
     ]
    }
   ],
   "source": [
    "print(r)"
   ]
  },
  {
   "cell_type": "code",
   "execution_count": 5,
   "id": "26e045f7",
   "metadata": {},
   "outputs": [
    {
     "name": "stdout",
     "output_type": "stream",
     "text": [
      "capitalize\n",
      "casefold\n",
      "center\n",
      "count\n",
      "encode\n",
      "endswith\n",
      "expandtabs\n",
      "find\n",
      "format\n",
      "format_map\n",
      "index\n",
      "isalnum\n",
      "isalpha\n",
      "isascii\n",
      "isdecimal\n",
      "isdigit\n",
      "isidentifier\n",
      "islower\n",
      "isnumeric\n",
      "isprintable\n",
      "isspace\n",
      "istitle\n",
      "isupper\n",
      "join\n",
      "ljust\n",
      "lower\n",
      "lstrip\n",
      "maketrans\n",
      "partition\n",
      "removeprefix\n",
      "removesuffix\n",
      "replace\n",
      "rfind\n",
      "rindex\n",
      "rjust\n",
      "rpartition\n",
      "rsplit\n",
      "rstrip\n",
      "split\n",
      "splitlines\n",
      "startswith\n",
      "strip\n",
      "swapcase\n",
      "title\n",
      "translate\n",
      "upper\n",
      "zfill\n"
     ]
    }
   ],
   "source": [
    "print(*[item for item in dir(str) if item[0].islower()],sep='\\n')"
   ]
  },
  {
   "cell_type": "code",
   "execution_count": 6,
   "id": "cfd5c6c8",
   "metadata": {},
   "outputs": [
    {
     "name": "stdout",
     "output_type": "stream",
     "text": [
      "['__add__', '__class__', '__contains__', '__delattr__', '__dir__', '__doc__', '__eq__', '__format__', '__ge__', '__getattribute__', '__getitem__', '__getnewargs__', '__gt__', '__hash__', '__init__', '__init_subclass__', '__iter__', '__le__', '__len__', '__lt__', '__mod__', '__mul__', '__ne__', '__new__', '__reduce__', '__reduce_ex__', '__repr__', '__rmod__', '__rmul__', '__setattr__', '__sizeof__', '__str__', '__subclasshook__', 'capitalize', 'casefold', 'center', 'count', 'encode', 'endswith', 'expandtabs', 'find', 'format', 'format_map', 'index', 'isalnum', 'isalpha', 'isascii', 'isdecimal', 'isdigit', 'isidentifier', 'islower', 'isnumeric', 'isprintable', 'isspace', 'istitle', 'isupper', 'join', 'ljust', 'lower', 'lstrip', 'maketrans', 'partition', 'removeprefix', 'removesuffix', 'replace', 'rfind', 'rindex', 'rjust', 'rpartition', 'rsplit', 'rstrip', 'split', 'splitlines', 'startswith', 'strip', 'swapcase', 'title', 'translate', 'upper', 'zfill']\n"
     ]
    }
   ],
   "source": [
    "print(dir(str))"
   ]
  },
  {
   "cell_type": "code",
   "execution_count": 7,
   "id": "fd25dcff",
   "metadata": {},
   "outputs": [],
   "source": [
    "# cap\n",
    "# swapcase\n",
    "# upper \n",
    "# lower\n",
    "# title"
   ]
  },
  {
   "cell_type": "code",
   "execution_count": 8,
   "id": "41e30cea",
   "metadata": {},
   "outputs": [],
   "source": [
    "s='hello python hoW Are yOu'"
   ]
  },
  {
   "cell_type": "code",
   "execution_count": 11,
   "id": "cc2d665f",
   "metadata": {},
   "outputs": [
    {
     "name": "stdout",
     "output_type": "stream",
     "text": [
      "original:  hello python hoW Are yOu\n",
      "capitalize:  Hello python how are you\n",
      "swapcase:  HELLO PYTHON HOw aRE YoU\n",
      "upper cased:  HELLO PYTHON HOW ARE YOU\n",
      "lower :  hello python how are you\n",
      "title :  Hello Python How Are You\n"
     ]
    }
   ],
   "source": [
    "print('original: ',s)\n",
    "print('capitalize: ',s.capitalize())\n",
    "print('swapcase: ',s.swapcase())\n",
    "print('upper cased: ',s.upper())\n",
    "print('lower : ',s.lower())\n",
    "print('title : ',s.title())"
   ]
  },
  {
   "cell_type": "code",
   "execution_count": 12,
   "id": "24863dae",
   "metadata": {},
   "outputs": [],
   "source": [
    "# split\n",
    "# join\n",
    "# strip"
   ]
  },
  {
   "cell_type": "code",
   "execution_count": 13,
   "id": "5bf7e613",
   "metadata": {},
   "outputs": [
    {
     "data": {
      "text/plain": [
       "'hello python hoW Are yOu'"
      ]
     },
     "execution_count": 13,
     "metadata": {},
     "output_type": "execute_result"
    }
   ],
   "source": [
    "s"
   ]
  },
  {
   "cell_type": "code",
   "execution_count": 15,
   "id": "e8477671",
   "metadata": {},
   "outputs": [],
   "source": [
    "r=s.split() # ' '"
   ]
  },
  {
   "cell_type": "raw",
   "id": "b0dafd73",
   "metadata": {},
   "source": [
    "r"
   ]
  },
  {
   "cell_type": "code",
   "execution_count": 16,
   "id": "ab2ac49e",
   "metadata": {},
   "outputs": [
    {
     "data": {
      "text/plain": [
       "['hello', 'python', 'hoW', 'Are', 'yOu']"
      ]
     },
     "execution_count": 16,
     "metadata": {},
     "output_type": "execute_result"
    }
   ],
   "source": [
    "r"
   ]
  },
  {
   "cell_type": "code",
   "execution_count": 23,
   "id": "125c31d2",
   "metadata": {},
   "outputs": [],
   "source": [
    "t=' '.join(r)"
   ]
  },
  {
   "cell_type": "code",
   "execution_count": 24,
   "id": "50e3a83c",
   "metadata": {},
   "outputs": [
    {
     "name": "stdout",
     "output_type": "stream",
     "text": [
      "hello python hoW Are yOu\n"
     ]
    }
   ],
   "source": [
    "print(t)"
   ]
  },
  {
   "cell_type": "code",
   "execution_count": 25,
   "id": "0bc86ab7",
   "metadata": {},
   "outputs": [],
   "source": [
    "r='-----hello python-----'"
   ]
  },
  {
   "cell_type": "code",
   "execution_count": 28,
   "id": "49c3647d",
   "metadata": {},
   "outputs": [
    {
     "data": {
      "text/plain": [
       "'hello python-----'"
      ]
     },
     "execution_count": 28,
     "metadata": {},
     "output_type": "execute_result"
    }
   ],
   "source": [
    "r.lstrip('-')"
   ]
  },
  {
   "cell_type": "code",
   "execution_count": 31,
   "id": "553d7d40",
   "metadata": {},
   "outputs": [],
   "source": [
    "t='\\n\\n \\t hello manish \\t \\n'"
   ]
  },
  {
   "cell_type": "code",
   "execution_count": 32,
   "id": "fa46c1c6",
   "metadata": {},
   "outputs": [
    {
     "data": {
      "text/plain": [
       "'-- hello manish'"
      ]
     },
     "execution_count": 32,
     "metadata": {},
     "output_type": "execute_result"
    }
   ],
   "source": [
    "t.strip()   # ' ', \\n , \\t"
   ]
  },
  {
   "cell_type": "code",
   "execution_count": 33,
   "id": "ea76c0a8",
   "metadata": {},
   "outputs": [],
   "source": [
    "# immutable ---> str , numbers , tuple"
   ]
  },
  {
   "cell_type": "code",
   "execution_count": 34,
   "id": "5956a7ec",
   "metadata": {},
   "outputs": [],
   "source": [
    "s='hello manish'"
   ]
  },
  {
   "cell_type": "code",
   "execution_count": 36,
   "id": "7220f322",
   "metadata": {},
   "outputs": [],
   "source": [
    "t=s.upper()"
   ]
  },
  {
   "cell_type": "code",
   "execution_count": 37,
   "id": "edb37251",
   "metadata": {},
   "outputs": [
    {
     "data": {
      "text/plain": [
       "1789312017008"
      ]
     },
     "execution_count": 37,
     "metadata": {},
     "output_type": "execute_result"
    }
   ],
   "source": [
    "id(s)"
   ]
  },
  {
   "cell_type": "code",
   "execution_count": 38,
   "id": "9d6af6bb",
   "metadata": {},
   "outputs": [
    {
     "data": {
      "text/plain": [
       "1789312043056"
      ]
     },
     "execution_count": 38,
     "metadata": {},
     "output_type": "execute_result"
    }
   ],
   "source": [
    "id(t)"
   ]
  },
  {
   "cell_type": "code",
   "execution_count": 39,
   "id": "d9f52933",
   "metadata": {},
   "outputs": [
    {
     "data": {
      "text/plain": [
       "'hello manish'"
      ]
     },
     "execution_count": 39,
     "metadata": {},
     "output_type": "execute_result"
    }
   ],
   "source": [
    "s"
   ]
  },
  {
   "cell_type": "code",
   "execution_count": 46,
   "id": "af9a866a",
   "metadata": {},
   "outputs": [],
   "source": [
    "# tuple---> collection data type order ---> indexing , slicing"
   ]
  },
  {
   "cell_type": "code",
   "execution_count": 61,
   "id": "7d48369d",
   "metadata": {},
   "outputs": [],
   "source": [
    "y='manish',23,90.5,'shan','shan','manish' # 0 to n-1  here is len(tuple)"
   ]
  },
  {
   "cell_type": "code",
   "execution_count": 45,
   "id": "51736e1a",
   "metadata": {},
   "outputs": [
    {
     "data": {
      "text/plain": [
       "tuple"
      ]
     },
     "execution_count": 45,
     "metadata": {},
     "output_type": "execute_result"
    }
   ],
   "source": [
    "type(y)"
   ]
  },
  {
   "cell_type": "code",
   "execution_count": 47,
   "id": "1325592a",
   "metadata": {},
   "outputs": [
    {
     "data": {
      "text/plain": [
       "'manish'"
      ]
     },
     "execution_count": 47,
     "metadata": {},
     "output_type": "execute_result"
    }
   ],
   "source": [
    "y[0]"
   ]
  },
  {
   "cell_type": "code",
   "execution_count": 48,
   "id": "e3add78c",
   "metadata": {},
   "outputs": [
    {
     "data": {
      "text/plain": [
       "23"
      ]
     },
     "execution_count": 48,
     "metadata": {},
     "output_type": "execute_result"
    }
   ],
   "source": [
    "y[1]"
   ]
  },
  {
   "cell_type": "code",
   "execution_count": 49,
   "id": "d39525b1",
   "metadata": {},
   "outputs": [],
   "source": [
    "# slicing----> tuple[start : end : step]"
   ]
  },
  {
   "cell_type": "code",
   "execution_count": 52,
   "id": "1ef2e1ae",
   "metadata": {},
   "outputs": [
    {
     "data": {
      "text/plain": [
       "(23, 'shan')"
      ]
     },
     "execution_count": 52,
     "metadata": {},
     "output_type": "execute_result"
    }
   ],
   "source": [
    "y[1:4:2]"
   ]
  },
  {
   "cell_type": "code",
   "execution_count": null,
   "id": "24371974",
   "metadata": {},
   "outputs": [],
   "source": [
    "   -4    -3    -2    -1\n",
    "'manish', 23 , 90.5 ,'shan'\n",
    " 0        1     2      3"
   ]
  },
  {
   "cell_type": "code",
   "execution_count": 53,
   "id": "bcd689e3",
   "metadata": {},
   "outputs": [
    {
     "data": {
      "text/plain": [
       "90.5"
      ]
     },
     "execution_count": 53,
     "metadata": {},
     "output_type": "execute_result"
    }
   ],
   "source": [
    "y[2]"
   ]
  },
  {
   "cell_type": "code",
   "execution_count": 54,
   "id": "e10c0a3b",
   "metadata": {},
   "outputs": [
    {
     "data": {
      "text/plain": [
       "90.5"
      ]
     },
     "execution_count": 54,
     "metadata": {},
     "output_type": "execute_result"
    }
   ],
   "source": [
    "y[-2]"
   ]
  },
  {
   "cell_type": "code",
   "execution_count": 55,
   "id": "b6b4381f",
   "metadata": {},
   "outputs": [
    {
     "data": {
      "text/plain": [
       "'shan'"
      ]
     },
     "execution_count": 55,
     "metadata": {},
     "output_type": "execute_result"
    }
   ],
   "source": [
    "y[3]"
   ]
  },
  {
   "cell_type": "code",
   "execution_count": 57,
   "id": "a1a66397",
   "metadata": {},
   "outputs": [
    {
     "data": {
      "text/plain": [
       "'h'"
      ]
     },
     "execution_count": 57,
     "metadata": {},
     "output_type": "execute_result"
    }
   ],
   "source": [
    "y[-1][1]"
   ]
  },
  {
   "cell_type": "code",
   "execution_count": 58,
   "id": "4b6f3f4d",
   "metadata": {},
   "outputs": [
    {
     "name": "stdout",
     "output_type": "stream",
     "text": [
      "['__add__', '__class__', '__class_getitem__', '__contains__', '__delattr__', '__dir__', '__doc__', '__eq__', '__format__', '__ge__', '__getattribute__', '__getitem__', '__getnewargs__', '__gt__', '__hash__', '__init__', '__init_subclass__', '__iter__', '__le__', '__len__', '__lt__', '__mul__', '__ne__', '__new__', '__reduce__', '__reduce_ex__', '__repr__', '__rmul__', '__setattr__', '__sizeof__', '__str__', '__subclasshook__', 'count', 'index']\n"
     ]
    }
   ],
   "source": [
    "print(dir(tuple))"
   ]
  },
  {
   "cell_type": "code",
   "execution_count": 62,
   "id": "6cc571d7",
   "metadata": {},
   "outputs": [
    {
     "data": {
      "text/plain": [
       "2"
      ]
     },
     "execution_count": 62,
     "metadata": {},
     "output_type": "execute_result"
    }
   ],
   "source": [
    "y.count('manish')"
   ]
  },
  {
   "cell_type": "code",
   "execution_count": 63,
   "id": "85c091d4",
   "metadata": {},
   "outputs": [
    {
     "data": {
      "text/plain": [
       "('manish', 23, 90.5, 'shan', 'shan', 'manish')"
      ]
     },
     "execution_count": 63,
     "metadata": {},
     "output_type": "execute_result"
    }
   ],
   "source": [
    "y"
   ]
  },
  {
   "cell_type": "code",
   "execution_count": 65,
   "id": "c621758b",
   "metadata": {},
   "outputs": [
    {
     "data": {
      "text/plain": [
       "0"
      ]
     },
     "execution_count": 65,
     "metadata": {},
     "output_type": "execute_result"
    }
   ],
   "source": [
    "y.count('n')"
   ]
  },
  {
   "cell_type": "code",
   "execution_count": 66,
   "id": "ac5d38e9",
   "metadata": {},
   "outputs": [],
   "source": [
    "p='helloheybye nhj;ksdc'"
   ]
  },
  {
   "cell_type": "code",
   "execution_count": 68,
   "id": "aaedf2e4",
   "metadata": {},
   "outputs": [
    {
     "data": {
      "text/plain": [
       "3"
      ]
     },
     "execution_count": 68,
     "metadata": {},
     "output_type": "execute_result"
    }
   ],
   "source": [
    "p.count('h')"
   ]
  },
  {
   "cell_type": "markdown",
   "id": "cd964027",
   "metadata": {},
   "source": [
    "# List"
   ]
  },
  {
   "cell_type": "code",
   "execution_count": 69,
   "id": "c14bafcf",
   "metadata": {},
   "outputs": [],
   "source": [
    "# mutable ---> we can modify and update"
   ]
  },
  {
   "cell_type": "code",
   "execution_count": 70,
   "id": "a5beeb66",
   "metadata": {},
   "outputs": [],
   "source": [
    "l=['manish','jeet','john',34]"
   ]
  },
  {
   "cell_type": "code",
   "execution_count": 71,
   "id": "2cbae60e",
   "metadata": {},
   "outputs": [
    {
     "data": {
      "text/plain": [
       "list"
      ]
     },
     "execution_count": 71,
     "metadata": {},
     "output_type": "execute_result"
    }
   ],
   "source": [
    "type(l)"
   ]
  },
  {
   "cell_type": "markdown",
   "id": "e7c9aad7",
   "metadata": {},
   "source": [
    "    for add element in list:\n",
    "        1. append   -----> end of the list\n",
    "        2. insert   ------> location\n",
    "        3. extend   -------> multi element\n",
    "     "
   ]
  },
  {
   "cell_type": "code",
   "execution_count": 72,
   "id": "ab79a614",
   "metadata": {},
   "outputs": [
    {
     "data": {
      "text/plain": [
       "['manish', 'jeet', 'john', 34]"
      ]
     },
     "execution_count": 72,
     "metadata": {},
     "output_type": "execute_result"
    }
   ],
   "source": [
    "l"
   ]
  },
  {
   "cell_type": "code",
   "execution_count": 73,
   "id": "016815ba",
   "metadata": {},
   "outputs": [],
   "source": [
    "l.append('jaipur')"
   ]
  },
  {
   "cell_type": "code",
   "execution_count": 74,
   "id": "3af3f623",
   "metadata": {},
   "outputs": [
    {
     "data": {
      "text/plain": [
       "['manish', 'jeet', 'john', 34, 'jaipur']"
      ]
     },
     "execution_count": 74,
     "metadata": {},
     "output_type": "execute_result"
    }
   ],
   "source": [
    "l"
   ]
  },
  {
   "cell_type": "code",
   "execution_count": 75,
   "id": "d4269bbf",
   "metadata": {},
   "outputs": [],
   "source": [
    "l.append(['sachin','rahul'])"
   ]
  },
  {
   "cell_type": "code",
   "execution_count": 76,
   "id": "92ef1919",
   "metadata": {},
   "outputs": [
    {
     "data": {
      "text/plain": [
       "['manish', 'jeet', 'john', 34, 'jaipur', ['sachin', 'rahul']]"
      ]
     },
     "execution_count": 76,
     "metadata": {},
     "output_type": "execute_result"
    }
   ],
   "source": [
    "l"
   ]
  },
  {
   "cell_type": "code",
   "execution_count": 77,
   "id": "b7e19f85",
   "metadata": {},
   "outputs": [
    {
     "data": {
      "text/plain": [
       "['sachin', 'rahul']"
      ]
     },
     "execution_count": 77,
     "metadata": {},
     "output_type": "execute_result"
    }
   ],
   "source": [
    "l[-1]"
   ]
  },
  {
   "cell_type": "code",
   "execution_count": 78,
   "id": "c53278b1",
   "metadata": {},
   "outputs": [],
   "source": [
    "l.insert(3,'delhi')"
   ]
  },
  {
   "cell_type": "code",
   "execution_count": 79,
   "id": "94ded253",
   "metadata": {},
   "outputs": [
    {
     "data": {
      "text/plain": [
       "['manish', 'jeet', 'john', 'delhi', 34, 'jaipur', ['sachin', 'rahul']]"
      ]
     },
     "execution_count": 79,
     "metadata": {},
     "output_type": "execute_result"
    }
   ],
   "source": [
    "l"
   ]
  },
  {
   "cell_type": "code",
   "execution_count": 80,
   "id": "ba94510d",
   "metadata": {},
   "outputs": [],
   "source": [
    "l.extend(['neha','rock','paper'])"
   ]
  },
  {
   "cell_type": "code",
   "execution_count": 81,
   "id": "e66d2de9",
   "metadata": {},
   "outputs": [
    {
     "name": "stdout",
     "output_type": "stream",
     "text": [
      "['manish', 'jeet', 'john', 'delhi', 34, 'jaipur', ['sachin', 'rahul'], 'neha', 'rock', 'paper']\n"
     ]
    }
   ],
   "source": [
    "print(l)"
   ]
  },
  {
   "cell_type": "code",
   "execution_count": 82,
   "id": "cca08a49",
   "metadata": {},
   "outputs": [
    {
     "data": {
      "text/plain": [
       "'paper'"
      ]
     },
     "execution_count": 82,
     "metadata": {},
     "output_type": "execute_result"
    }
   ],
   "source": [
    "l[-1]"
   ]
  },
  {
   "cell_type": "markdown",
   "id": "a6dc1a33",
   "metadata": {},
   "source": [
    "     revome element: \n",
    "         1. pop  ----> end of the list/ last element \n",
    "         2. remove-----> by alement name\n",
    "         3. del----> sequence"
   ]
  },
  {
   "cell_type": "code",
   "execution_count": 83,
   "id": "19e90e46",
   "metadata": {},
   "outputs": [
    {
     "name": "stdout",
     "output_type": "stream",
     "text": [
      "['manish', 'jeet', 'john', 'delhi', 34, 'jaipur', ['sachin', 'rahul'], 'neha', 'rock', 'paper']\n"
     ]
    }
   ],
   "source": [
    "print(l)"
   ]
  },
  {
   "cell_type": "code",
   "execution_count": 84,
   "id": "1ead2d27",
   "metadata": {},
   "outputs": [
    {
     "data": {
      "text/plain": [
       "'paper'"
      ]
     },
     "execution_count": 84,
     "metadata": {},
     "output_type": "execute_result"
    }
   ],
   "source": [
    "l.pop()"
   ]
  },
  {
   "cell_type": "code",
   "execution_count": 85,
   "id": "fcd9bcab",
   "metadata": {},
   "outputs": [
    {
     "name": "stdout",
     "output_type": "stream",
     "text": [
      "['manish', 'jeet', 'john', 'delhi', 34, 'jaipur', ['sachin', 'rahul'], 'neha', 'rock']\n"
     ]
    }
   ],
   "source": [
    "print(l)"
   ]
  },
  {
   "cell_type": "code",
   "execution_count": 86,
   "id": "16169772",
   "metadata": {},
   "outputs": [
    {
     "data": {
      "text/plain": [
       "34"
      ]
     },
     "execution_count": 86,
     "metadata": {},
     "output_type": "execute_result"
    }
   ],
   "source": [
    "l.pop(4)"
   ]
  },
  {
   "cell_type": "code",
   "execution_count": 87,
   "id": "514b1ca3",
   "metadata": {},
   "outputs": [
    {
     "name": "stdout",
     "output_type": "stream",
     "text": [
      "['manish', 'jeet', 'john', 'delhi', 'jaipur', ['sachin', 'rahul'], 'neha', 'rock']\n"
     ]
    }
   ],
   "source": [
    "print(l)"
   ]
  },
  {
   "cell_type": "code",
   "execution_count": 88,
   "id": "aca611d4",
   "metadata": {},
   "outputs": [],
   "source": [
    "l.remove('john')"
   ]
  },
  {
   "cell_type": "code",
   "execution_count": 89,
   "id": "65b3ddc9",
   "metadata": {},
   "outputs": [
    {
     "name": "stdout",
     "output_type": "stream",
     "text": [
      "['manish', 'jeet', 'delhi', 'jaipur', ['sachin', 'rahul'], 'neha', 'rock']\n"
     ]
    }
   ],
   "source": [
    "print(l)"
   ]
  },
  {
   "cell_type": "code",
   "execution_count": 90,
   "id": "5354f55b",
   "metadata": {},
   "outputs": [],
   "source": [
    "del l[1:4]"
   ]
  },
  {
   "cell_type": "code",
   "execution_count": 91,
   "id": "c6a03da1",
   "metadata": {},
   "outputs": [
    {
     "data": {
      "text/plain": [
       "['manish', ['sachin', 'rahul'], 'neha', 'rock']"
      ]
     },
     "execution_count": 91,
     "metadata": {},
     "output_type": "execute_result"
    }
   ],
   "source": [
    "l"
   ]
  },
  {
   "cell_type": "code",
   "execution_count": 92,
   "id": "fab677b9",
   "metadata": {},
   "outputs": [],
   "source": [
    "# shallow copy and deep copy----->"
   ]
  },
  {
   "cell_type": "code",
   "execution_count": 93,
   "id": "238f20ae",
   "metadata": {},
   "outputs": [
    {
     "data": {
      "text/plain": [
       "['manish', ['sachin', 'rahul'], 'neha', 'rock']"
      ]
     },
     "execution_count": 93,
     "metadata": {},
     "output_type": "execute_result"
    }
   ],
   "source": [
    "l"
   ]
  },
  {
   "cell_type": "code",
   "execution_count": 94,
   "id": "4349bcdc",
   "metadata": {},
   "outputs": [],
   "source": [
    "l1=l"
   ]
  },
  {
   "cell_type": "code",
   "execution_count": 95,
   "id": "a3655f55",
   "metadata": {},
   "outputs": [
    {
     "data": {
      "text/plain": [
       "['manish', ['sachin', 'rahul'], 'neha', 'rock']"
      ]
     },
     "execution_count": 95,
     "metadata": {},
     "output_type": "execute_result"
    }
   ],
   "source": [
    "l1"
   ]
  },
  {
   "cell_type": "code",
   "execution_count": 97,
   "id": "e1b79e15",
   "metadata": {},
   "outputs": [
    {
     "data": {
      "text/plain": [
       "['manish', ['sachin', 'rahul'], 'neha', 'rock']"
      ]
     },
     "execution_count": 97,
     "metadata": {},
     "output_type": "execute_result"
    }
   ],
   "source": [
    "l"
   ]
  },
  {
   "cell_type": "code",
   "execution_count": 98,
   "id": "c19964bf",
   "metadata": {},
   "outputs": [],
   "source": [
    "l.append('manish')"
   ]
  },
  {
   "cell_type": "code",
   "execution_count": 99,
   "id": "1ef51207",
   "metadata": {},
   "outputs": [
    {
     "data": {
      "text/plain": [
       "['manish', ['sachin', 'rahul'], 'neha', 'rock', 'manish']"
      ]
     },
     "execution_count": 99,
     "metadata": {},
     "output_type": "execute_result"
    }
   ],
   "source": [
    "l"
   ]
  },
  {
   "cell_type": "code",
   "execution_count": 100,
   "id": "5182876a",
   "metadata": {},
   "outputs": [
    {
     "data": {
      "text/plain": [
       "['manish', ['sachin', 'rahul'], 'neha', 'rock', 'manish']"
      ]
     },
     "execution_count": 100,
     "metadata": {},
     "output_type": "execute_result"
    }
   ],
   "source": [
    "l1"
   ]
  },
  {
   "cell_type": "code",
   "execution_count": 101,
   "id": "a6855212",
   "metadata": {},
   "outputs": [],
   "source": [
    "t=l.copy()"
   ]
  },
  {
   "cell_type": "code",
   "execution_count": 102,
   "id": "2a54ce43",
   "metadata": {},
   "outputs": [
    {
     "data": {
      "text/plain": [
       "['manish', ['sachin', 'rahul'], 'neha', 'rock', 'manish']"
      ]
     },
     "execution_count": 102,
     "metadata": {},
     "output_type": "execute_result"
    }
   ],
   "source": [
    "t"
   ]
  },
  {
   "cell_type": "code",
   "execution_count": 103,
   "id": "b0203dcf",
   "metadata": {},
   "outputs": [
    {
     "data": {
      "text/plain": [
       "['manish', ['sachin', 'rahul'], 'neha', 'rock', 'manish']"
      ]
     },
     "execution_count": 103,
     "metadata": {},
     "output_type": "execute_result"
    }
   ],
   "source": [
    "l"
   ]
  },
  {
   "cell_type": "code",
   "execution_count": 104,
   "id": "83f0d17b",
   "metadata": {},
   "outputs": [],
   "source": [
    "l.append('manoj')"
   ]
  },
  {
   "cell_type": "code",
   "execution_count": 105,
   "id": "639be941",
   "metadata": {},
   "outputs": [
    {
     "data": {
      "text/plain": [
       "['manish', ['sachin', 'rahul'], 'neha', 'rock', 'manish', 'manoj']"
      ]
     },
     "execution_count": 105,
     "metadata": {},
     "output_type": "execute_result"
    }
   ],
   "source": [
    "l"
   ]
  },
  {
   "cell_type": "code",
   "execution_count": 106,
   "id": "e59a51df",
   "metadata": {},
   "outputs": [
    {
     "data": {
      "text/plain": [
       "['manish', ['sachin', 'rahul'], 'neha', 'rock', 'manish']"
      ]
     },
     "execution_count": 106,
     "metadata": {},
     "output_type": "execute_result"
    }
   ],
   "source": [
    "t"
   ]
  },
  {
   "cell_type": "code",
   "execution_count": 107,
   "id": "3375a62b",
   "metadata": {},
   "outputs": [
    {
     "data": {
      "text/plain": [
       "['manish', ['sachin', 'rahul'], 'neha', 'rock', 'manish']"
      ]
     },
     "execution_count": 107,
     "metadata": {},
     "output_type": "execute_result"
    }
   ],
   "source": [
    "t"
   ]
  },
  {
   "cell_type": "code",
   "execution_count": 108,
   "id": "d377a4f0",
   "metadata": {},
   "outputs": [
    {
     "data": {
      "text/plain": [
       "1789328715648"
      ]
     },
     "execution_count": 108,
     "metadata": {},
     "output_type": "execute_result"
    }
   ],
   "source": [
    "id(t)"
   ]
  },
  {
   "cell_type": "code",
   "execution_count": 109,
   "id": "2983626f",
   "metadata": {},
   "outputs": [
    {
     "data": {
      "text/plain": [
       "'manish'"
      ]
     },
     "execution_count": 109,
     "metadata": {},
     "output_type": "execute_result"
    }
   ],
   "source": [
    "t.pop()"
   ]
  },
  {
   "cell_type": "code",
   "execution_count": 110,
   "id": "c123e8ca",
   "metadata": {},
   "outputs": [
    {
     "data": {
      "text/plain": [
       "1789328715648"
      ]
     },
     "execution_count": 110,
     "metadata": {},
     "output_type": "execute_result"
    }
   ],
   "source": [
    "id(t)"
   ]
  },
  {
   "cell_type": "code",
   "execution_count": 111,
   "id": "f8cdb0eb",
   "metadata": {},
   "outputs": [
    {
     "data": {
      "text/plain": [
       "['manish', ['sachin', 'rahul'], 'neha', 'rock']"
      ]
     },
     "execution_count": 111,
     "metadata": {},
     "output_type": "execute_result"
    }
   ],
   "source": [
    "t"
   ]
  },
  {
   "cell_type": "code",
   "execution_count": 112,
   "id": "e69f82ed",
   "metadata": {},
   "outputs": [],
   "source": [
    "# tuple --- list---->"
   ]
  },
  {
   "cell_type": "code",
   "execution_count": 113,
   "id": "657e3cfb",
   "metadata": {},
   "outputs": [],
   "source": [
    "# 1 . memory\n",
    "# 2 . account number---> mobile number "
   ]
  },
  {
   "cell_type": "code",
   "execution_count": 122,
   "id": "591d64c3",
   "metadata": {},
   "outputs": [],
   "source": [
    "t=[i for i in  range(100)]"
   ]
  },
  {
   "cell_type": "code",
   "execution_count": 123,
   "id": "5165b94e",
   "metadata": {},
   "outputs": [
    {
     "name": "stdout",
     "output_type": "stream",
     "text": [
      "[0, 1, 2, 3, 4, 5, 6, 7, 8, 9, 10, 11, 12, 13, 14, 15, 16, 17, 18, 19, 20, 21, 22, 23, 24, 25, 26, 27, 28, 29, 30, 31, 32, 33, 34, 35, 36, 37, 38, 39, 40, 41, 42, 43, 44, 45, 46, 47, 48, 49, 50, 51, 52, 53, 54, 55, 56, 57, 58, 59, 60, 61, 62, 63, 64, 65, 66, 67, 68, 69, 70, 71, 72, 73, 74, 75, 76, 77, 78, 79, 80, 81, 82, 83, 84, 85, 86, 87, 88, 89, 90, 91, 92, 93, 94, 95, 96, 97, 98, 99]\n"
     ]
    }
   ],
   "source": [
    "print(t)"
   ]
  },
  {
   "cell_type": "code",
   "execution_count": 124,
   "id": "efd757fd",
   "metadata": {},
   "outputs": [],
   "source": [
    "r=tuple(t)"
   ]
  },
  {
   "cell_type": "code",
   "execution_count": 125,
   "id": "5763775c",
   "metadata": {},
   "outputs": [
    {
     "name": "stdout",
     "output_type": "stream",
     "text": [
      "(0, 1, 2, 3, 4, 5, 6, 7, 8, 9, 10, 11, 12, 13, 14, 15, 16, 17, 18, 19, 20, 21, 22, 23, 24, 25, 26, 27, 28, 29, 30, 31, 32, 33, 34, 35, 36, 37, 38, 39, 40, 41, 42, 43, 44, 45, 46, 47, 48, 49, 50, 51, 52, 53, 54, 55, 56, 57, 58, 59, 60, 61, 62, 63, 64, 65, 66, 67, 68, 69, 70, 71, 72, 73, 74, 75, 76, 77, 78, 79, 80, 81, 82, 83, 84, 85, 86, 87, 88, 89, 90, 91, 92, 93, 94, 95, 96, 97, 98, 99)\n"
     ]
    }
   ],
   "source": [
    "print(r)"
   ]
  },
  {
   "cell_type": "code",
   "execution_count": 126,
   "id": "1e3c68ca",
   "metadata": {},
   "outputs": [
    {
     "data": {
      "text/plain": [
       "list"
      ]
     },
     "execution_count": 126,
     "metadata": {},
     "output_type": "execute_result"
    }
   ],
   "source": [
    "type(t)"
   ]
  },
  {
   "cell_type": "code",
   "execution_count": 127,
   "id": "25f0f5c9",
   "metadata": {},
   "outputs": [
    {
     "data": {
      "text/plain": [
       "tuple"
      ]
     },
     "execution_count": 127,
     "metadata": {},
     "output_type": "execute_result"
    }
   ],
   "source": [
    "type(r)"
   ]
  },
  {
   "cell_type": "code",
   "execution_count": 128,
   "id": "bbf91838",
   "metadata": {},
   "outputs": [
    {
     "data": {
      "text/plain": [
       "True"
      ]
     },
     "execution_count": 128,
     "metadata": {},
     "output_type": "execute_result"
    }
   ],
   "source": [
    "len(r)==len(t)"
   ]
  },
  {
   "cell_type": "code",
   "execution_count": 129,
   "id": "5a1c7def",
   "metadata": {},
   "outputs": [
    {
     "data": {
      "text/plain": [
       "904"
      ]
     },
     "execution_count": 129,
     "metadata": {},
     "output_type": "execute_result"
    }
   ],
   "source": [
    "t.__sizeof__()"
   ]
  },
  {
   "cell_type": "code",
   "execution_count": 130,
   "id": "c1c86a52",
   "metadata": {},
   "outputs": [
    {
     "data": {
      "text/plain": [
       "824"
      ]
     },
     "execution_count": 130,
     "metadata": {},
     "output_type": "execute_result"
    }
   ],
   "source": [
    "r.__sizeof__()"
   ]
  },
  {
   "cell_type": "markdown",
   "id": "27775442",
   "metadata": {},
   "source": []
  },
  {
   "cell_type": "code",
   "execution_count": 131,
   "id": "53931b5f",
   "metadata": {},
   "outputs": [
    {
     "name": "stdout",
     "output_type": "stream",
     "text": [
      "['__add__', '__class__', '__class_getitem__', '__contains__', '__delattr__', '__delitem__', '__dir__', '__doc__', '__eq__', '__format__', '__ge__', '__getattribute__', '__getitem__', '__gt__', '__hash__', '__iadd__', '__imul__', '__init__', '__init_subclass__', '__iter__', '__le__', '__len__', '__lt__', '__mul__', '__ne__', '__new__', '__reduce__', '__reduce_ex__', '__repr__', '__reversed__', '__rmul__', '__setattr__', '__setitem__', '__sizeof__', '__str__', '__subclasshook__', 'append', 'clear', 'copy', 'count', 'extend', 'index', 'insert', 'pop', 'remove', 'reverse', 'sort']\n"
     ]
    }
   ],
   "source": [
    "print(dir(list))"
   ]
  },
  {
   "cell_type": "code",
   "execution_count": 133,
   "id": "90b99ae1",
   "metadata": {},
   "outputs": [
    {
     "data": {
      "text/plain": [
       "['manish', ['sachin', 'rahul'], 'neha', 'rock', 'manish', 'manoj']"
      ]
     },
     "execution_count": 133,
     "metadata": {},
     "output_type": "execute_result"
    }
   ],
   "source": [
    "l"
   ]
  },
  {
   "cell_type": "code",
   "execution_count": 134,
   "id": "1e10e82c",
   "metadata": {},
   "outputs": [
    {
     "data": {
      "text/plain": [
       "['manoj', 'manish', 'rock', 'neha', ['sachin', 'rahul'], 'manish']"
      ]
     },
     "execution_count": 134,
     "metadata": {},
     "output_type": "execute_result"
    }
   ],
   "source": [
    "l[::-1]"
   ]
  },
  {
   "cell_type": "code",
   "execution_count": 135,
   "id": "5a193bba",
   "metadata": {},
   "outputs": [],
   "source": [
    "l.reverse()"
   ]
  },
  {
   "cell_type": "code",
   "execution_count": 136,
   "id": "d696cb5a",
   "metadata": {},
   "outputs": [
    {
     "data": {
      "text/plain": [
       "['manoj', 'manish', 'rock', 'neha', ['sachin', 'rahul'], 'manish']"
      ]
     },
     "execution_count": 136,
     "metadata": {},
     "output_type": "execute_result"
    }
   ],
   "source": [
    "l"
   ]
  },
  {
   "cell_type": "code",
   "execution_count": 139,
   "id": "3acbb6c0",
   "metadata": {},
   "outputs": [
    {
     "data": {
      "text/plain": [
       "['sachin', 'rahul']"
      ]
     },
     "execution_count": 139,
     "metadata": {},
     "output_type": "execute_result"
    }
   ],
   "source": [
    "l.pop(-2)"
   ]
  },
  {
   "cell_type": "code",
   "execution_count": 143,
   "id": "430eb2e0",
   "metadata": {},
   "outputs": [],
   "source": [
    "l.sort(reverse=True)"
   ]
  },
  {
   "cell_type": "code",
   "execution_count": 144,
   "id": "62a209dc",
   "metadata": {},
   "outputs": [
    {
     "data": {
      "text/plain": [
       "['rock', 'neha', 'manoj', 'manish', 'manish']"
      ]
     },
     "execution_count": 144,
     "metadata": {},
     "output_type": "execute_result"
    }
   ],
   "source": [
    "l"
   ]
  },
  {
   "cell_type": "markdown",
   "id": "ddbf507c",
   "metadata": {},
   "source": [
    "     dict key value pair:\n",
    "         * un-ordered-----\n",
    "         * keys unique\n",
    "         * key value pair\n",
    "         * keys should be immutable\n",
    "      "
   ]
  },
  {
   "cell_type": "code",
   "execution_count": 146,
   "id": "366ae1cd",
   "metadata": {},
   "outputs": [],
   "source": [
    "d={'name':'manish','age':24,('wieght','height'):30,10:'number'}"
   ]
  },
  {
   "cell_type": "code",
   "execution_count": 148,
   "id": "ba983ec9",
   "metadata": {},
   "outputs": [
    {
     "name": "stdout",
     "output_type": "stream",
     "text": [
      "{'name': 'manish', 'age': 24, ('wieght', 'height'): 30, 10: 'number'}\n"
     ]
    }
   ],
   "source": [
    "print(d) # ugly print"
   ]
  },
  {
   "cell_type": "code",
   "execution_count": 152,
   "id": "99b4b57d",
   "metadata": {},
   "outputs": [],
   "source": [
    "from pprint import pprint"
   ]
  },
  {
   "cell_type": "code",
   "execution_count": 153,
   "id": "80c24eff",
   "metadata": {},
   "outputs": [
    {
     "name": "stdout",
     "output_type": "stream",
     "text": [
      "{10: 'number', 'age': 24, 'name': 'manish', ('wieght', 'height'): 30}\n"
     ]
    }
   ],
   "source": [
    "pprint(d)"
   ]
  },
  {
   "cell_type": "code",
   "execution_count": 154,
   "id": "88169aa3",
   "metadata": {},
   "outputs": [
    {
     "ename": "KeyError",
     "evalue": "0",
     "output_type": "error",
     "traceback": [
      "\u001b[1;31m---------------------------------------------------------------------------\u001b[0m",
      "\u001b[1;31mKeyError\u001b[0m                                  Traceback (most recent call last)",
      "\u001b[1;32m~\\AppData\\Local\\Temp/ipykernel_7940/1089268471.py\u001b[0m in \u001b[0;36m<module>\u001b[1;34m\u001b[0m\n\u001b[1;32m----> 1\u001b[1;33m \u001b[0md\u001b[0m\u001b[1;33m[\u001b[0m\u001b[1;36m0\u001b[0m\u001b[1;33m]\u001b[0m\u001b[1;33m\u001b[0m\u001b[1;33m\u001b[0m\u001b[0m\n\u001b[0m",
      "\u001b[1;31mKeyError\u001b[0m: 0"
     ]
    }
   ],
   "source": [
    "d[0]"
   ]
  },
  {
   "cell_type": "code",
   "execution_count": 155,
   "id": "e46f893f",
   "metadata": {},
   "outputs": [
    {
     "data": {
      "text/plain": [
       "'manish'"
      ]
     },
     "execution_count": 155,
     "metadata": {},
     "output_type": "execute_result"
    }
   ],
   "source": [
    "d['name']"
   ]
  },
  {
   "cell_type": "code",
   "execution_count": 156,
   "id": "7adac576",
   "metadata": {},
   "outputs": [
    {
     "data": {
      "text/plain": [
       "24"
      ]
     },
     "execution_count": 156,
     "metadata": {},
     "output_type": "execute_result"
    }
   ],
   "source": [
    "d.get('age')"
   ]
  },
  {
   "cell_type": "code",
   "execution_count": 157,
   "id": "4d892720",
   "metadata": {},
   "outputs": [],
   "source": [
    "d.get('addr')"
   ]
  },
  {
   "cell_type": "code",
   "execution_count": 158,
   "id": "c375f648",
   "metadata": {},
   "outputs": [
    {
     "ename": "KeyError",
     "evalue": "'addr'",
     "output_type": "error",
     "traceback": [
      "\u001b[1;31m---------------------------------------------------------------------------\u001b[0m",
      "\u001b[1;31mKeyError\u001b[0m                                  Traceback (most recent call last)",
      "\u001b[1;32m~\\AppData\\Local\\Temp/ipykernel_7940/2899539153.py\u001b[0m in \u001b[0;36m<module>\u001b[1;34m\u001b[0m\n\u001b[1;32m----> 1\u001b[1;33m \u001b[0md\u001b[0m\u001b[1;33m[\u001b[0m\u001b[1;34m'addr'\u001b[0m\u001b[1;33m]\u001b[0m\u001b[1;33m\u001b[0m\u001b[1;33m\u001b[0m\u001b[0m\n\u001b[0m",
      "\u001b[1;31mKeyError\u001b[0m: 'addr'"
     ]
    }
   ],
   "source": [
    "d['addr']"
   ]
  },
  {
   "cell_type": "code",
   "execution_count": 159,
   "id": "f2fe55a0",
   "metadata": {},
   "outputs": [],
   "source": [
    "# dict---> mutable ---> "
   ]
  },
  {
   "cell_type": "code",
   "execution_count": 160,
   "id": "135c7a6c",
   "metadata": {},
   "outputs": [
    {
     "data": {
      "text/plain": [
       "'jaipur'"
      ]
     },
     "execution_count": 160,
     "metadata": {},
     "output_type": "execute_result"
    }
   ],
   "source": [
    "d.setdefault('addr','jaipur')"
   ]
  },
  {
   "cell_type": "code",
   "execution_count": 161,
   "id": "4e8bb976",
   "metadata": {},
   "outputs": [
    {
     "name": "stdout",
     "output_type": "stream",
     "text": [
      "{'name': 'manish', 'age': 24, ('wieght', 'height'): 30, 10: 'number', 'addr': 'jaipur'}\n"
     ]
    }
   ],
   "source": [
    "print(d)"
   ]
  },
  {
   "cell_type": "code",
   "execution_count": 162,
   "id": "b51ec8b4",
   "metadata": {},
   "outputs": [
    {
     "name": "stdout",
     "output_type": "stream",
     "text": [
      "{10: 'number',\n",
      " 'addr': 'jaipur',\n",
      " 'age': 24,\n",
      " 'name': 'manish',\n",
      " ('wieght', 'height'): 30}\n"
     ]
    }
   ],
   "source": [
    "pprint(d)"
   ]
  },
  {
   "cell_type": "code",
   "execution_count": 163,
   "id": "6aeb459c",
   "metadata": {},
   "outputs": [],
   "source": [
    "# pop----> key\n",
    "# poitem"
   ]
  },
  {
   "cell_type": "code",
   "execution_count": 164,
   "id": "8771fe58",
   "metadata": {},
   "outputs": [
    {
     "data": {
      "text/plain": [
       "'manish'"
      ]
     },
     "execution_count": 164,
     "metadata": {},
     "output_type": "execute_result"
    }
   ],
   "source": [
    "d.pop('name')"
   ]
  },
  {
   "cell_type": "code",
   "execution_count": 166,
   "id": "13db7d2a",
   "metadata": {},
   "outputs": [
    {
     "name": "stdout",
     "output_type": "stream",
     "text": [
      "{'age': 24, ('wieght', 'height'): 30, 10: 'number', 'addr': 'jaipur'}\n"
     ]
    }
   ],
   "source": [
    "print(d)"
   ]
  },
  {
   "cell_type": "code",
   "execution_count": 167,
   "id": "ddeec818",
   "metadata": {},
   "outputs": [
    {
     "data": {
      "text/plain": [
       "('addr', 'jaipur')"
      ]
     },
     "execution_count": 167,
     "metadata": {},
     "output_type": "execute_result"
    }
   ],
   "source": [
    "d.popitem()"
   ]
  },
  {
   "cell_type": "code",
   "execution_count": 168,
   "id": "6ba6c33a",
   "metadata": {},
   "outputs": [
    {
     "name": "stdout",
     "output_type": "stream",
     "text": [
      "{'age': 24, ('wieght', 'height'): 30, 10: 'number'}\n"
     ]
    }
   ],
   "source": [
    "print(d)"
   ]
  },
  {
   "cell_type": "code",
   "execution_count": 169,
   "id": "53a7dfbd",
   "metadata": {},
   "outputs": [
    {
     "data": {
      "text/plain": [
       "dict_keys(['age', ('wieght', 'height'), 10])"
      ]
     },
     "execution_count": 169,
     "metadata": {},
     "output_type": "execute_result"
    }
   ],
   "source": [
    "d.keys()"
   ]
  },
  {
   "cell_type": "code",
   "execution_count": 170,
   "id": "95f2406c",
   "metadata": {},
   "outputs": [
    {
     "data": {
      "text/plain": [
       "{'age': 24, ('wieght', 'height'): 30, 10: 'number'}"
      ]
     },
     "execution_count": 170,
     "metadata": {},
     "output_type": "execute_result"
    }
   ],
   "source": [
    "d"
   ]
  },
  {
   "cell_type": "code",
   "execution_count": 171,
   "id": "a28191c0",
   "metadata": {},
   "outputs": [
    {
     "data": {
      "text/plain": [
       "dict_values([24, 30, 'number'])"
      ]
     },
     "execution_count": 171,
     "metadata": {},
     "output_type": "execute_result"
    }
   ],
   "source": [
    "d.values()"
   ]
  },
  {
   "cell_type": "code",
   "execution_count": 172,
   "id": "71debffb",
   "metadata": {},
   "outputs": [
    {
     "data": {
      "text/plain": [
       "dict_items([('age', 24), (('wieght', 'height'), 30), (10, 'number')])"
      ]
     },
     "execution_count": 172,
     "metadata": {},
     "output_type": "execute_result"
    }
   ],
   "source": [
    "d.items()"
   ]
  },
  {
   "cell_type": "code",
   "execution_count": 173,
   "id": "62458cb7",
   "metadata": {},
   "outputs": [
    {
     "name": "stdout",
     "output_type": "stream",
     "text": [
      "['__class__', '__class_getitem__', '__contains__', '__delattr__', '__delitem__', '__dir__', '__doc__', '__eq__', '__format__', '__ge__', '__getattribute__', '__getitem__', '__gt__', '__hash__', '__init__', '__init_subclass__', '__ior__', '__iter__', '__le__', '__len__', '__lt__', '__ne__', '__new__', '__or__', '__reduce__', '__reduce_ex__', '__repr__', '__reversed__', '__ror__', '__setattr__', '__setitem__', '__sizeof__', '__str__', '__subclasshook__', 'clear', 'copy', 'fromkeys', 'get', 'items', 'keys', 'pop', 'popitem', 'setdefault', 'update', 'values']\n"
     ]
    }
   ],
   "source": [
    "print(dir(dict))"
   ]
  },
  {
   "cell_type": "code",
   "execution_count": 174,
   "id": "35bb970a",
   "metadata": {},
   "outputs": [
    {
     "data": {
      "text/plain": [
       "{'age': 24, ('wieght', 'height'): 30, 10: 'number'}"
      ]
     },
     "execution_count": 174,
     "metadata": {},
     "output_type": "execute_result"
    }
   ],
   "source": [
    "d"
   ]
  },
  {
   "cell_type": "code",
   "execution_count": 175,
   "id": "89dd4789",
   "metadata": {},
   "outputs": [],
   "source": [
    "d['age']=30"
   ]
  },
  {
   "cell_type": "code",
   "execution_count": 176,
   "id": "51c6672b",
   "metadata": {},
   "outputs": [
    {
     "data": {
      "text/plain": [
       "{'age': 30, ('wieght', 'height'): 30, 10: 'number'}"
      ]
     },
     "execution_count": 176,
     "metadata": {},
     "output_type": "execute_result"
    }
   ],
   "source": [
    "d"
   ]
  },
  {
   "cell_type": "code",
   "execution_count": 177,
   "id": "1b48a280",
   "metadata": {},
   "outputs": [],
   "source": [
    "# set----> un-ordered  and store unique values"
   ]
  },
  {
   "cell_type": "code",
   "execution_count": 180,
   "id": "25ddf765",
   "metadata": {},
   "outputs": [],
   "source": [
    "s={1,2,3,4,51,2,1,2,1,2,67,2,3,32,3,33,56,1,2,1,2}"
   ]
  },
  {
   "cell_type": "code",
   "execution_count": 181,
   "id": "b06012d8",
   "metadata": {},
   "outputs": [
    {
     "name": "stdout",
     "output_type": "stream",
     "text": [
      "{32, 1, 2, 3, 4, 67, 33, 51, 56}\n"
     ]
    }
   ],
   "source": [
    "print(s)"
   ]
  },
  {
   "cell_type": "code",
   "execution_count": 182,
   "id": "dea90221",
   "metadata": {},
   "outputs": [],
   "source": [
    "# update"
   ]
  },
  {
   "cell_type": "code",
   "execution_count": 183,
   "id": "a1b80751",
   "metadata": {},
   "outputs": [],
   "source": [
    "s.update({9,7,3,6})"
   ]
  },
  {
   "cell_type": "code",
   "execution_count": 184,
   "id": "9f7eb7fb",
   "metadata": {},
   "outputs": [
    {
     "data": {
      "text/plain": [
       "{1, 2, 3, 4, 6, 7, 9, 32, 33, 51, 56, 67}"
      ]
     },
     "execution_count": 184,
     "metadata": {},
     "output_type": "execute_result"
    }
   ],
   "source": [
    "s"
   ]
  },
  {
   "cell_type": "code",
   "execution_count": 185,
   "id": "c0c38467",
   "metadata": {},
   "outputs": [],
   "source": [
    "d={30,40,50,55,20,10,2,3,5}"
   ]
  },
  {
   "cell_type": "code",
   "execution_count": 186,
   "id": "eef7b6ed",
   "metadata": {},
   "outputs": [
    {
     "data": {
      "text/plain": [
       "{2, 3}"
      ]
     },
     "execution_count": 186,
     "metadata": {},
     "output_type": "execute_result"
    }
   ],
   "source": [
    "s.intersection(d)"
   ]
  },
  {
   "cell_type": "code",
   "execution_count": 187,
   "id": "34429c20",
   "metadata": {},
   "outputs": [
    {
     "data": {
      "text/plain": [
       "{1, 2, 3, 4, 5, 6, 7, 9, 10, 20, 30, 32, 33, 40, 50, 51, 55, 56, 67}"
      ]
     },
     "execution_count": 187,
     "metadata": {},
     "output_type": "execute_result"
    }
   ],
   "source": [
    "s.union(d)"
   ]
  },
  {
   "cell_type": "code",
   "execution_count": 188,
   "id": "2e3422c3",
   "metadata": {},
   "outputs": [],
   "source": [
    "s.add(500)"
   ]
  },
  {
   "cell_type": "markdown",
   "id": "c44c5de8",
   "metadata": {},
   "source": [
    "###### s"
   ]
  },
  {
   "cell_type": "code",
   "execution_count": 190,
   "id": "a9ccba12",
   "metadata": {},
   "outputs": [],
   "source": [
    "s.discard(56)"
   ]
  },
  {
   "cell_type": "code",
   "execution_count": 191,
   "id": "5a6a72a5",
   "metadata": {},
   "outputs": [
    {
     "data": {
      "text/plain": [
       "{1, 2, 3, 4, 6, 7, 9, 32, 33, 51, 67, 500}"
      ]
     },
     "execution_count": 191,
     "metadata": {},
     "output_type": "execute_result"
    }
   ],
   "source": [
    "s"
   ]
  },
  {
   "cell_type": "code",
   "execution_count": 192,
   "id": "38b2a844",
   "metadata": {},
   "outputs": [],
   "source": [
    "s.remove(500)"
   ]
  },
  {
   "cell_type": "code",
   "execution_count": 193,
   "id": "b1319f0f",
   "metadata": {},
   "outputs": [
    {
     "data": {
      "text/plain": [
       "{1, 2, 3, 4, 6, 7, 9, 32, 33, 51, 67}"
      ]
     },
     "execution_count": 193,
     "metadata": {},
     "output_type": "execute_result"
    }
   ],
   "source": [
    "s"
   ]
  },
  {
   "cell_type": "code",
   "execution_count": 194,
   "id": "76d8eba1",
   "metadata": {},
   "outputs": [],
   "source": [
    "s.discard(1000)"
   ]
  },
  {
   "cell_type": "code",
   "execution_count": 195,
   "id": "c3895785",
   "metadata": {},
   "outputs": [
    {
     "ename": "KeyError",
     "evalue": "1000",
     "output_type": "error",
     "traceback": [
      "\u001b[1;31m---------------------------------------------------------------------------\u001b[0m",
      "\u001b[1;31mKeyError\u001b[0m                                  Traceback (most recent call last)",
      "\u001b[1;32m~\\AppData\\Local\\Temp/ipykernel_7940/2897867741.py\u001b[0m in \u001b[0;36m<module>\u001b[1;34m\u001b[0m\n\u001b[1;32m----> 1\u001b[1;33m \u001b[0ms\u001b[0m\u001b[1;33m.\u001b[0m\u001b[0mremove\u001b[0m\u001b[1;33m(\u001b[0m\u001b[1;36m1000\u001b[0m\u001b[1;33m)\u001b[0m\u001b[1;33m\u001b[0m\u001b[1;33m\u001b[0m\u001b[0m\n\u001b[0m",
      "\u001b[1;31mKeyError\u001b[0m: 1000"
     ]
    }
   ],
   "source": [
    "s.remove(1000)"
   ]
  },
  {
   "cell_type": "code",
   "execution_count": null,
   "id": "3891b98e",
   "metadata": {},
   "outputs": [],
   "source": [
    "# operator:\n",
    "    artihmatic\n",
    "    logical\n",
    "    assignment\n",
    "    comparision\n",
    "    membership in or not in\n",
    "    identity---> is is not"
   ]
  }
 ],
 "metadata": {
  "kernelspec": {
   "display_name": "Python 3 (ipykernel)",
   "language": "python",
   "name": "python3"
  },
  "language_info": {
   "codemirror_mode": {
    "name": "ipython",
    "version": 3
   },
   "file_extension": ".py",
   "mimetype": "text/x-python",
   "name": "python",
   "nbconvert_exporter": "python",
   "pygments_lexer": "ipython3",
   "version": "3.9.6"
  }
 },
 "nbformat": 4,
 "nbformat_minor": 5
}
