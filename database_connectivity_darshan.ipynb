{
 "cells": [
  {
   "cell_type": "code",
   "execution_count": 18,
   "id": "1c70489d",
   "metadata": {},
   "outputs": [],
   "source": [
    "import mysql.connector"
   ]
  },
  {
   "cell_type": "code",
   "execution_count": 31,
   "id": "e11d8c7e",
   "metadata": {},
   "outputs": [],
   "source": [
    "con=mysql.connector.connect(host='localhost',user='root',database='grras')"
   ]
  },
  {
   "cell_type": "code",
   "execution_count": 32,
   "id": "e7cbf56e",
   "metadata": {},
   "outputs": [],
   "source": [
    "cur=con.cursor()"
   ]
  },
  {
   "cell_type": "code",
   "execution_count": 4,
   "id": "753eb3e7",
   "metadata": {},
   "outputs": [],
   "source": [
    "cur.execute('select * from student')"
   ]
  },
  {
   "cell_type": "code",
   "execution_count": 5,
   "id": "d89e61a6",
   "metadata": {},
   "outputs": [
    {
     "data": {
      "text/plain": [
       "[(1001, 'sachin', '9782131159', 'sachin@grras.com'),\n",
       " (1002, 'kushal', '1234323456', 'kushal.samota@grras.com'),\n",
       " (1003, 'rajat', '8923342334', 'rajat.goyal@gmail.com'),\n",
       " (1004, 'ravi', '9782123432', 'ravi.sarswat@gmail.com'),\n",
       " (1005, 'gaurav', '992334561', 'gaurav.saluja@gmai.com'),\n",
       " (1006, 'nidhi', '9912345678', 'nidhi.sharma@yahoo.com'),\n",
       " (1007, 'manish', '7878889789', 'rmanish911@gmail.com'),\n",
       " (1008, 'shan', '8988978787', 'shan@gmail.com')]"
      ]
     },
     "execution_count": 5,
     "metadata": {},
     "output_type": "execute_result"
    }
   ],
   "source": [
    "list(cur)"
   ]
  },
  {
   "cell_type": "code",
   "execution_count": 6,
   "id": "a14b6b6c",
   "metadata": {},
   "outputs": [],
   "source": [
    "cur.execute('insert into student values(1009,\"jeet\",\"878978978\",\"jeet@grras.com\")')"
   ]
  },
  {
   "cell_type": "code",
   "execution_count": 7,
   "id": "00eb0d05",
   "metadata": {},
   "outputs": [],
   "source": [
    "con.commit()"
   ]
  },
  {
   "cell_type": "code",
   "execution_count": 8,
   "id": "44e43c11",
   "metadata": {},
   "outputs": [],
   "source": [
    "cur.execute('select * from student')"
   ]
  },
  {
   "cell_type": "code",
   "execution_count": 9,
   "id": "aece3044",
   "metadata": {},
   "outputs": [
    {
     "name": "stdout",
     "output_type": "stream",
     "text": [
      "(1001, 'sachin', '9782131159', 'sachin@grras.com')\n",
      "(1002, 'kushal', '1234323456', 'kushal.samota@grras.com')\n",
      "(1003, 'rajat', '8923342334', 'rajat.goyal@gmail.com')\n",
      "(1004, 'ravi', '9782123432', 'ravi.sarswat@gmail.com')\n",
      "(1005, 'gaurav', '992334561', 'gaurav.saluja@gmai.com')\n",
      "(1006, 'nidhi', '9912345678', 'nidhi.sharma@yahoo.com')\n",
      "(1007, 'manish', '7878889789', 'rmanish911@gmail.com')\n",
      "(1008, 'shan', '8988978787', 'shan@gmail.com')\n",
      "(1009, 'jeet', '878978978', 'jeet@grras.com')\n"
     ]
    }
   ],
   "source": [
    "for i in cur:\n",
    "    print(i)"
   ]
  },
  {
   "cell_type": "code",
   "execution_count": 36,
   "id": "6fe28aa4",
   "metadata": {},
   "outputs": [],
   "source": [
    "cur.execute('select * from address where city=\"jaipur\"')"
   ]
  },
  {
   "cell_type": "code",
   "execution_count": 37,
   "id": "d7c553f0",
   "metadata": {},
   "outputs": [
    {
     "name": "stdout",
     "output_type": "stream",
     "text": [
      "(1, 1001, 'c-54', 'kana vihar', 'ayodhya nagar', 'behid ram mandir', 'jaipur', 'rajasthan', 'india', 302021)\n",
      "(3, 1003, 'd-112', 'near om garden', 'jayanti road', '', 'jaipur', 'rajasthan', 'india', 302026)\n",
      "(4, 1004, 'k-12', 'gyan vihar', 'near gt road', '', 'jaipur', 'rajasthan', 'india', 302024)\n",
      "(5, 1005, 'k-12', '', 'behid kiran sweets', 'himmat nagar', 'jaipur', 'rajasthan', 'india', 302026)\n"
     ]
    }
   ],
   "source": [
    "for i in cur:\n",
    "    print(i)"
   ]
  },
  {
   "cell_type": "code",
   "execution_count": null,
   "id": "3b7712f1",
   "metadata": {},
   "outputs": [],
   "source": []
  }
 ],
 "metadata": {
  "kernelspec": {
   "display_name": "Python 3 (ipykernel)",
   "language": "python",
   "name": "python3"
  },
  "language_info": {
   "codemirror_mode": {
    "name": "ipython",
    "version": 3
   },
   "file_extension": ".py",
   "mimetype": "text/x-python",
   "name": "python",
   "nbconvert_exporter": "python",
   "pygments_lexer": "ipython3",
   "version": "3.9.6"
  }
 },
 "nbformat": 4,
 "nbformat_minor": 5
}
