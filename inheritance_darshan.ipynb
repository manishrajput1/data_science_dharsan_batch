{
 "cells": [
  {
   "cell_type": "markdown",
   "id": "47d0eb48",
   "metadata": {},
   "source": [
    "                Inheritance\n",
    "                    1. single inheritance-----> one to one\n",
    "                    2. multiple inheritance---> multi class to one class\n",
    "                    3. multilevel inheritance\n",
    "                    4. heirarchy inheritance\n",
    "                    5. hybrid inheritance\n",
    "                    \n",
    "                    \n",
    "                        "
   ]
  },
  {
   "cell_type": "code",
   "execution_count": 22,
   "id": "8d08445e",
   "metadata": {},
   "outputs": [],
   "source": [
    "# single inheritance\n",
    "class parent:\n",
    "    def kia(self):\n",
    "        self._color='black'\n",
    "        self.price='10L to 15L'\n",
    "    def show(self):\n",
    "        print('kia base model color: ',self.color)\n",
    "        print('kia base model price : ',self.price)"
   ]
  },
  {
   "cell_type": "code",
   "execution_count": 23,
   "id": "041af041",
   "metadata": {},
   "outputs": [],
   "source": [
    "class child(parent):\n",
    "    def update(self):\n",
    "        self.window='power window'\n",
    "        self.roof='sunroof'\n",
    "    def show(self):\n",
    "        print('kia base model color: ',self._color)\n",
    "        print('kia base model price : ',self.price)\n",
    "        print('kia roof type: ',self.roof)\n",
    "        print('kia window type: ',self.window)"
   ]
  },
  {
   "cell_type": "code",
   "execution_count": 24,
   "id": "ef947d95",
   "metadata": {},
   "outputs": [],
   "source": [
    "ob=child()"
   ]
  },
  {
   "cell_type": "code",
   "execution_count": 25,
   "id": "70a0857c",
   "metadata": {},
   "outputs": [],
   "source": [
    "ob.update()\n",
    "ob.kia()"
   ]
  },
  {
   "cell_type": "code",
   "execution_count": 26,
   "id": "fede100a",
   "metadata": {},
   "outputs": [
    {
     "name": "stdout",
     "output_type": "stream",
     "text": [
      "kia base model color:  black\n",
      "kia base model price :  10L to 15L\n",
      "kia roof type:  sunroof\n",
      "kia window type:  power window\n"
     ]
    }
   ],
   "source": [
    "ob.show()"
   ]
  },
  {
   "cell_type": "code",
   "execution_count": 28,
   "id": "4320e70b",
   "metadata": {},
   "outputs": [],
   "source": [
    "class P1:\n",
    "    def getp1(self):\n",
    "        print('hello i am P1 class method')\n",
    "class P2:\n",
    "    def getp2(self):\n",
    "        print('hii i am P2 class method')\n",
    "class P3:\n",
    "    def getp3(self):\n",
    "        print('hey i am P3 class method')\n",
    "class child(P1,P2):\n",
    "    def show():\n",
    "        print('i am child class')\n",
    "        "
   ]
  },
  {
   "cell_type": "code",
   "execution_count": 29,
   "id": "6d60448a",
   "metadata": {},
   "outputs": [],
   "source": [
    "ob=child()"
   ]
  },
  {
   "cell_type": "code",
   "execution_count": 30,
   "id": "a7af195b",
   "metadata": {},
   "outputs": [
    {
     "name": "stdout",
     "output_type": "stream",
     "text": [
      "['__class__', '__delattr__', '__dict__', '__dir__', '__doc__', '__eq__', '__format__', '__ge__', '__getattribute__', '__gt__', '__hash__', '__init__', '__init_subclass__', '__le__', '__lt__', '__module__', '__ne__', '__new__', '__reduce__', '__reduce_ex__', '__repr__', '__setattr__', '__sizeof__', '__str__', '__subclasshook__', '__weakref__', 'getp1', 'getp2', 'getp3', 'show']\n"
     ]
    }
   ],
   "source": [
    "print(dir(ob))"
   ]
  },
  {
   "cell_type": "code",
   "execution_count": 32,
   "id": "fe9155f3",
   "metadata": {},
   "outputs": [],
   "source": [
    "class P1:\n",
    "    def getp1(self):\n",
    "        print('hello i am P1 class method')\n",
    "class P2(P1):\n",
    "    def getp2(self):\n",
    "        print('hii i am P2 class method')\n",
    "class P3(P2):\n",
    "    def getp3(self):\n",
    "        print('hey i am P3 class method')\n",
    "class child(P3):\n",
    "    def show():\n",
    "        print('i am child class')"
   ]
  },
  {
   "cell_type": "code",
   "execution_count": 33,
   "id": "4413ecd6",
   "metadata": {},
   "outputs": [],
   "source": [
    "obj=child()"
   ]
  },
  {
   "cell_type": "code",
   "execution_count": 34,
   "id": "aaa76eba",
   "metadata": {
    "collapsed": true
   },
   "outputs": [
    {
     "name": "stdout",
     "output_type": "stream",
     "text": [
      "['__class__', '__delattr__', '__dict__', '__dir__', '__doc__', '__eq__', '__format__', '__ge__', '__getattribute__', '__gt__', '__hash__', '__init__', '__init_subclass__', '__le__', '__lt__', '__module__', '__ne__', '__new__', '__reduce__', '__reduce_ex__', '__repr__', '__setattr__', '__sizeof__', '__str__', '__subclasshook__', '__weakref__', 'getp1', 'getp2', 'getp3', 'show']\n"
     ]
    }
   ],
   "source": [
    "print(dir(obj))"
   ]
  },
  {
   "cell_type": "code",
   "execution_count": 35,
   "id": "0b7a80a7",
   "metadata": {},
   "outputs": [
    {
     "name": "stdout",
     "output_type": "stream",
     "text": [
      "hii i am P2 class method\n"
     ]
    }
   ],
   "source": [
    "obj.getp2()"
   ]
  },
  {
   "cell_type": "code",
   "execution_count": 43,
   "id": "b823400a",
   "metadata": {},
   "outputs": [],
   "source": [
    "class Mark:\n",
    "    def show(self):\n",
    "        print('mark is company owner...... there are 2 company 1. whatsapp 2. Facebook')\n",
    "class Whatsapp(Mark):\n",
    "    def w_chat(self):\n",
    "        print('chat features available')\n",
    "    def payment(self):\n",
    "        print('payment option available')\n",
    "class Fb(Mark):\n",
    "    def fb_chat(self):\n",
    "        print('chat features available')\n",
    "    def share(self):\n",
    "        print('data share available')\n",
    "class what_chat_features(Whatsapp):\n",
    "    def update(self):\n",
    "        print('memory size increase')\n",
    "class whats_payment(what_chat_features):\n",
    "    def payment_update(self):\n",
    "        print('UPI and NET banking.....')"
   ]
  },
  {
   "cell_type": "code",
   "execution_count": 44,
   "id": "5b52fea6",
   "metadata": {},
   "outputs": [],
   "source": [
    "ob=whats_payment()"
   ]
  },
  {
   "cell_type": "code",
   "execution_count": 45,
   "id": "ec2bae94",
   "metadata": {},
   "outputs": [
    {
     "name": "stdout",
     "output_type": "stream",
     "text": [
      "['__class__', '__delattr__', '__dict__', '__dir__', '__doc__', '__eq__', '__format__', '__ge__', '__getattribute__', '__gt__', '__hash__', '__init__', '__init_subclass__', '__le__', '__lt__', '__module__', '__ne__', '__new__', '__reduce__', '__reduce_ex__', '__repr__', '__setattr__', '__sizeof__', '__str__', '__subclasshook__', '__weakref__', 'payment', 'payment_update', 'show', 'update', 'w_chat']\n"
     ]
    }
   ],
   "source": [
    "print(dir(ob))"
   ]
  },
  {
   "cell_type": "code",
   "execution_count": null,
   "id": "07f76de6",
   "metadata": {},
   "outputs": [],
   "source": []
  },
  {
   "cell_type": "code",
   "execution_count": 46,
   "id": "2b85dd04",
   "metadata": {},
   "outputs": [],
   "source": [
    "# ENCAPSULATION"
   ]
  },
  {
   "cell_type": "code",
   "execution_count": 63,
   "id": "560f3ad2",
   "metadata": {},
   "outputs": [],
   "source": [
    "class p1:\n",
    "    ids=0\n",
    "    def __init__(self):\n",
    "        self.__id=p1.ids+1\n",
    "    def show(self):\n",
    "        print('employee id: ',self.__id)"
   ]
  },
  {
   "cell_type": "code",
   "execution_count": 64,
   "id": "fcc37840",
   "metadata": {},
   "outputs": [],
   "source": [
    "ob=p1()"
   ]
  },
  {
   "cell_type": "code",
   "execution_count": 65,
   "id": "5dfb99e2",
   "metadata": {},
   "outputs": [
    {
     "name": "stdout",
     "output_type": "stream",
     "text": [
      "employee id:  1\n"
     ]
    }
   ],
   "source": [
    "ob.show()"
   ]
  },
  {
   "cell_type": "code",
   "execution_count": 67,
   "id": "f2e3c010",
   "metadata": {},
   "outputs": [],
   "source": [
    "class P2(p1):\n",
    "    def showinfo(self):\n",
    "        print('employee id: ',self.i__d)"
   ]
  },
  {
   "cell_type": "code",
   "execution_count": 68,
   "id": "82a2a285",
   "metadata": {},
   "outputs": [],
   "source": [
    "obj=P2()"
   ]
  },
  {
   "cell_type": "code",
   "execution_count": 69,
   "id": "0b95cd2b",
   "metadata": {},
   "outputs": [
    {
     "ename": "AttributeError",
     "evalue": "'P2' object has no attribute 'i__d'",
     "output_type": "error",
     "traceback": [
      "\u001b[1;31m---------------------------------------------------------------------------\u001b[0m",
      "\u001b[1;31mAttributeError\u001b[0m                            Traceback (most recent call last)",
      "\u001b[1;32m~\\AppData\\Local\\Temp/ipykernel_7316/2496341528.py\u001b[0m in \u001b[0;36m<module>\u001b[1;34m\u001b[0m\n\u001b[1;32m----> 1\u001b[1;33m \u001b[0mprint\u001b[0m\u001b[1;33m(\u001b[0m\u001b[0mobj\u001b[0m\u001b[1;33m.\u001b[0m\u001b[0mshowinfo\u001b[0m\u001b[1;33m(\u001b[0m\u001b[1;33m)\u001b[0m\u001b[1;33m)\u001b[0m\u001b[1;33m\u001b[0m\u001b[1;33m\u001b[0m\u001b[0m\n\u001b[0m",
      "\u001b[1;32m~\\AppData\\Local\\Temp/ipykernel_7316/3220477673.py\u001b[0m in \u001b[0;36mshowinfo\u001b[1;34m(self)\u001b[0m\n\u001b[0;32m      1\u001b[0m \u001b[1;32mclass\u001b[0m \u001b[0mP2\u001b[0m\u001b[1;33m(\u001b[0m\u001b[0mp1\u001b[0m\u001b[1;33m)\u001b[0m\u001b[1;33m:\u001b[0m\u001b[1;33m\u001b[0m\u001b[1;33m\u001b[0m\u001b[0m\n\u001b[0;32m      2\u001b[0m     \u001b[1;32mdef\u001b[0m \u001b[0mshowinfo\u001b[0m\u001b[1;33m(\u001b[0m\u001b[0mself\u001b[0m\u001b[1;33m)\u001b[0m\u001b[1;33m:\u001b[0m\u001b[1;33m\u001b[0m\u001b[1;33m\u001b[0m\u001b[0m\n\u001b[1;32m----> 3\u001b[1;33m         \u001b[0mprint\u001b[0m\u001b[1;33m(\u001b[0m\u001b[1;34m'employee id: '\u001b[0m\u001b[1;33m,\u001b[0m\u001b[0mself\u001b[0m\u001b[1;33m.\u001b[0m\u001b[0mi__d\u001b[0m\u001b[1;33m)\u001b[0m\u001b[1;33m\u001b[0m\u001b[1;33m\u001b[0m\u001b[0m\n\u001b[0m",
      "\u001b[1;31mAttributeError\u001b[0m: 'P2' object has no attribute 'i__d'"
     ]
    }
   ],
   "source": [
    "print(obj.showinfo())"
   ]
  },
  {
   "cell_type": "code",
   "execution_count": 85,
   "id": "01459dfa",
   "metadata": {},
   "outputs": [],
   "source": [
    "class test:\n",
    "    def __init__(self):\n",
    "        self.name='manish rajput'\n",
    "    def __show(self):\n",
    "        print('hello i am : ',self.name)\n",
    "class into(test):\n",
    "    def __init__(self):\n",
    "        super().__init__()\n",
    "        super().__show()\n",
    "        print('print private method called here.....')\n",
    "    "
   ]
  },
  {
   "cell_type": "code",
   "execution_count": 86,
   "id": "e8dc25a2",
   "metadata": {},
   "outputs": [
    {
     "ename": "AttributeError",
     "evalue": "'super' object has no attribute '_into__show'",
     "output_type": "error",
     "traceback": [
      "\u001b[1;31m---------------------------------------------------------------------------\u001b[0m",
      "\u001b[1;31mAttributeError\u001b[0m                            Traceback (most recent call last)",
      "\u001b[1;32m~\\AppData\\Local\\Temp/ipykernel_7316/3212347350.py\u001b[0m in \u001b[0;36m<module>\u001b[1;34m\u001b[0m\n\u001b[1;32m----> 1\u001b[1;33m \u001b[0mob\u001b[0m\u001b[1;33m=\u001b[0m\u001b[0minto\u001b[0m\u001b[1;33m(\u001b[0m\u001b[1;33m)\u001b[0m\u001b[1;33m\u001b[0m\u001b[1;33m\u001b[0m\u001b[0m\n\u001b[0m",
      "\u001b[1;32m~\\AppData\\Local\\Temp/ipykernel_7316/151211980.py\u001b[0m in \u001b[0;36m__init__\u001b[1;34m(self)\u001b[0m\n\u001b[0;32m      7\u001b[0m     \u001b[1;32mdef\u001b[0m \u001b[0m__init__\u001b[0m\u001b[1;33m(\u001b[0m\u001b[0mself\u001b[0m\u001b[1;33m)\u001b[0m\u001b[1;33m:\u001b[0m\u001b[1;33m\u001b[0m\u001b[1;33m\u001b[0m\u001b[0m\n\u001b[0;32m      8\u001b[0m         \u001b[0msuper\u001b[0m\u001b[1;33m(\u001b[0m\u001b[1;33m)\u001b[0m\u001b[1;33m.\u001b[0m\u001b[0m__init__\u001b[0m\u001b[1;33m(\u001b[0m\u001b[1;33m)\u001b[0m\u001b[1;33m\u001b[0m\u001b[1;33m\u001b[0m\u001b[0m\n\u001b[1;32m----> 9\u001b[1;33m         \u001b[0msuper\u001b[0m\u001b[1;33m(\u001b[0m\u001b[1;33m)\u001b[0m\u001b[1;33m.\u001b[0m\u001b[0m__show\u001b[0m\u001b[1;33m(\u001b[0m\u001b[1;33m)\u001b[0m\u001b[1;33m\u001b[0m\u001b[1;33m\u001b[0m\u001b[0m\n\u001b[0m\u001b[0;32m     10\u001b[0m         \u001b[0mprint\u001b[0m\u001b[1;33m(\u001b[0m\u001b[1;34m'print private method called here.....'\u001b[0m\u001b[1;33m)\u001b[0m\u001b[1;33m\u001b[0m\u001b[1;33m\u001b[0m\u001b[0m\n\u001b[0;32m     11\u001b[0m \u001b[1;33m\u001b[0m\u001b[0m\n",
      "\u001b[1;31mAttributeError\u001b[0m: 'super' object has no attribute '_into__show'"
     ]
    }
   ],
   "source": [
    "ob=into()"
   ]
  },
  {
   "cell_type": "code",
   "execution_count": 82,
   "id": "b6f78a32",
   "metadata": {},
   "outputs": [],
   "source": [
    "x=10"
   ]
  },
  {
   "cell_type": "code",
   "execution_count": 83,
   "id": "d56c2adb",
   "metadata": {},
   "outputs": [],
   "source": [
    "x=20"
   ]
  },
  {
   "cell_type": "code",
   "execution_count": 84,
   "id": "347bde4d",
   "metadata": {},
   "outputs": [
    {
     "data": {
      "text/plain": [
       "20"
      ]
     },
     "execution_count": 84,
     "metadata": {},
     "output_type": "execute_result"
    }
   ],
   "source": [
    "x"
   ]
  },
  {
   "cell_type": "code",
   "execution_count": 87,
   "id": "ebd54c5d",
   "metadata": {},
   "outputs": [],
   "source": [
    "# polymorphism"
   ]
  },
  {
   "cell_type": "code",
   "execution_count": 101,
   "id": "a22418f0",
   "metadata": {},
   "outputs": [],
   "source": [
    "class test:\n",
    "    def show(self):\n",
    "        print('hello i am show method of test class ')\n",
    "class test1(test):\n",
    "    def show(self):\n",
    "        super().show()\n",
    "        print('hello i am show method of test1 class')\n",
    "    "
   ]
  },
  {
   "cell_type": "code",
   "execution_count": 102,
   "id": "ce3c68bb",
   "metadata": {},
   "outputs": [],
   "source": [
    "ob=test1()"
   ]
  },
  {
   "cell_type": "code",
   "execution_count": 103,
   "id": "2ae63e61",
   "metadata": {},
   "outputs": [
    {
     "name": "stdout",
     "output_type": "stream",
     "text": [
      "hello i am show method of test class \n",
      "hello i am show method of test1 class\n"
     ]
    }
   ],
   "source": [
    "ob.show()"
   ]
  },
  {
   "cell_type": "code",
   "execution_count": 155,
   "id": "f84c2772",
   "metadata": {},
   "outputs": [],
   "source": [
    "class poly:\n",
    "    def __init__(self,a):\n",
    "        self.a=a\n",
    "    def __add__(p,q):\n",
    "        return p.a+q.a+100\n",
    "    def __sub__(a,b):\n",
    "        return a.a+b.a\n",
    "        "
   ]
  },
  {
   "cell_type": "code",
   "execution_count": 156,
   "id": "d4cc97fe",
   "metadata": {},
   "outputs": [],
   "source": [
    "ob=poly(10)"
   ]
  },
  {
   "cell_type": "code",
   "execution_count": 157,
   "id": "1c47a7b0",
   "metadata": {},
   "outputs": [],
   "source": [
    "ob1=poly(20)"
   ]
  },
  {
   "cell_type": "code",
   "execution_count": 143,
   "id": "1fdb69be",
   "metadata": {},
   "outputs": [
    {
     "name": "stdout",
     "output_type": "stream",
     "text": [
      "130\n"
     ]
    }
   ],
   "source": [
    "print(ob+ob1)"
   ]
  },
  {
   "cell_type": "code",
   "execution_count": 144,
   "id": "4761623b",
   "metadata": {},
   "outputs": [
    {
     "name": "stdout",
     "output_type": "stream",
     "text": [
      "-10\n"
     ]
    }
   ],
   "source": [
    "print(ob-ob1)"
   ]
  },
  {
   "cell_type": "code",
   "execution_count": 158,
   "id": "cc9c706d",
   "metadata": {},
   "outputs": [],
   "source": [
    "p=poly(50)"
   ]
  },
  {
   "cell_type": "code",
   "execution_count": 146,
   "id": "0b31fe6b",
   "metadata": {},
   "outputs": [
    {
     "data": {
      "text/plain": [
       "50"
      ]
     },
     "execution_count": 146,
     "metadata": {},
     "output_type": "execute_result"
    }
   ],
   "source": [
    "p.a"
   ]
  },
  {
   "cell_type": "code",
   "execution_count": 159,
   "id": "ab676ed7",
   "metadata": {},
   "outputs": [],
   "source": [
    "q=poly(40)"
   ]
  },
  {
   "cell_type": "code",
   "execution_count": 152,
   "id": "78c47c31",
   "metadata": {},
   "outputs": [
    {
     "data": {
      "text/plain": [
       "40"
      ]
     },
     "execution_count": 152,
     "metadata": {},
     "output_type": "execute_result"
    }
   ],
   "source": [
    "q.a"
   ]
  },
  {
   "cell_type": "code",
   "execution_count": 163,
   "id": "0007a2a8",
   "metadata": {},
   "outputs": [
    {
     "name": "stdout",
     "output_type": "stream",
     "text": [
      "190\n"
     ]
    }
   ],
   "source": [
    "t=p+q\n",
    "print(t)"
   ]
  },
  {
   "cell_type": "code",
   "execution_count": 162,
   "id": "eb2aeb7a",
   "metadata": {},
   "outputs": [
    {
     "ename": "TypeError",
     "evalue": "unsupported operand type(s) for -: 'int' and 'poly'",
     "output_type": "error",
     "traceback": [
      "\u001b[1;31m---------------------------------------------------------------------------\u001b[0m",
      "\u001b[1;31mTypeError\u001b[0m                                 Traceback (most recent call last)",
      "\u001b[1;32m~\\AppData\\Local\\Temp/ipykernel_7316/1940729129.py\u001b[0m in \u001b[0;36m<module>\u001b[1;34m\u001b[0m\n\u001b[1;32m----> 1\u001b[1;33m \u001b[0mprint\u001b[0m\u001b[1;33m(\u001b[0m\u001b[0mt\u001b[0m\u001b[1;33m-\u001b[0m\u001b[0mq\u001b[0m\u001b[1;33m)\u001b[0m\u001b[1;33m\u001b[0m\u001b[1;33m\u001b[0m\u001b[0m\n\u001b[0m",
      "\u001b[1;31mTypeError\u001b[0m: unsupported operand type(s) for -: 'int' and 'poly'"
     ]
    }
   ],
   "source": [
    "print(t-q)"
   ]
  },
  {
   "cell_type": "code",
   "execution_count": null,
   "id": "a1a2a37c",
   "metadata": {},
   "outputs": [],
   "source": []
  }
 ],
 "metadata": {
  "kernelspec": {
   "display_name": "Python 3 (ipykernel)",
   "language": "python",
   "name": "python3"
  },
  "language_info": {
   "codemirror_mode": {
    "name": "ipython",
    "version": 3
   },
   "file_extension": ".py",
   "mimetype": "text/x-python",
   "name": "python",
   "nbconvert_exporter": "python",
   "pygments_lexer": "ipython3",
   "version": "3.9.6"
  }
 },
 "nbformat": 4,
 "nbformat_minor": 5
}
